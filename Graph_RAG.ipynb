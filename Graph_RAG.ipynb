{
  "nbformat": 4,
  "nbformat_minor": 0,
  "metadata": {
    "colab": {
      "provenance": [],
      "authorship_tag": "ABX9TyPTk9tgJJd8oqXD3Z0GtJOK",
      "include_colab_link": true
    },
    "kernelspec": {
      "name": "python3",
      "display_name": "Python 3"
    },
    "language_info": {
      "name": "python"
    }
  },
  "cells": [
    {
      "cell_type": "markdown",
      "metadata": {
        "id": "view-in-github",
        "colab_type": "text"
      },
      "source": [
        "<a href=\"https://colab.research.google.com/github/0xZee/Graph-RAG/blob/main/Graph_RAG.ipynb\" target=\"_parent\"><img src=\"https://colab.research.google.com/assets/colab-badge.svg\" alt=\"Open In Colab\"/></a>"
      ]
    },
    {
      "cell_type": "code",
      "execution_count": null,
      "metadata": {
        "id": "szEaHxV3izFf"
      },
      "outputs": [],
      "source": [
        "# source Graph RAG\n",
        "https://microsoft.github.io/graphrag/posts/get_started/"
      ]
    },
    {
      "cell_type": "code",
      "source": [
        "!pip install graphrag"
      ],
      "metadata": {
        "id": "-1AnbtjZi2rn"
      },
      "execution_count": null,
      "outputs": []
    },
    {
      "cell_type": "code",
      "source": [
        "!mkdir -p input"
      ],
      "metadata": {
        "id": "DzmYFvYDkFG5"
      },
      "execution_count": null,
      "outputs": []
    },
    {
      "cell_type": "code",
      "source": [
        "# To initialize your workspace, let's first run the graphrag.index --init command\n",
        "# python -m graphrag.index --init --root ./ragtest\n",
        "\n",
        "!python -m graphrag.index --init --root ."
      ],
      "metadata": {
        "colab": {
          "base_uri": "https://localhost:8080/"
        },
        "id": "aapuFN_aoUYW",
        "outputId": "c3062fee-167b-4502-95de-9515884ea83a"
      },
      "execution_count": null,
      "outputs": [
        {
          "output_type": "stream",
          "name": "stdout",
          "text": [
            "2024-07-10 21:52:32.848876: E external/local_xla/xla/stream_executor/cuda/cuda_dnn.cc:9261] Unable to register cuDNN factory: Attempting to register factory for plugin cuDNN when one has already been registered\n",
            "2024-07-10 21:52:32.848960: E external/local_xla/xla/stream_executor/cuda/cuda_fft.cc:607] Unable to register cuFFT factory: Attempting to register factory for plugin cuFFT when one has already been registered\n",
            "2024-07-10 21:52:32.852305: E external/local_xla/xla/stream_executor/cuda/cuda_blas.cc:1515] Unable to register cuBLAS factory: Attempting to register factory for plugin cuBLAS when one has already been registered\n",
            "2024-07-10 21:52:34.449519: W tensorflow/compiler/tf2tensorrt/utils/py_utils.cc:38] TF-TRT Warning: Could not find TensorRT\n",
            "\u001b[2KInitializing project at .\n",
            "⠋ GraphRAG Indexer "
          ]
        }
      ]
    },
    {
      "cell_type": "code",
      "source": [
        "# Running the Indexing pipeline in . folder\n",
        "\n",
        "!python -m graphrag.index --root ."
      ],
      "metadata": {
        "id": "WwgPpnAuqYC1"
      },
      "execution_count": null,
      "outputs": []
    },
    {
      "cell_type": "code",
      "source": [
        "# Running the Query Engine - Global Search\n",
        "# Global search to ask a high-level question or holostic question\n",
        "\n",
        "!python -m graphrag.query \\\n",
        "--root . \\\n",
        "--method global \\\n",
        "\"What are the top themes in this story?\""
      ],
      "metadata": {
        "id": "8Cwkb0BHq9PN"
      },
      "execution_count": null,
      "outputs": []
    },
    {
      "cell_type": "code",
      "source": [
        "# Running the Query Engine - Local Search\n",
        "# Local search to ask a more specific question about a particular character\n",
        "\n",
        "!python -m graphrag.query \\\n",
        "--root ./ragtest \\\n",
        "--method local \\\n",
        "\"Who is Scrooge, and what are his main relationships?\""
      ],
      "metadata": {
        "id": "rzFiHrNXr9Rh"
      },
      "execution_count": null,
      "outputs": []
    },
    {
      "cell_type": "markdown",
      "source": [
        "---"
      ],
      "metadata": {
        "id": "osQa048BuCBx"
      }
    },
    {
      "cell_type": "code",
      "source": [
        "# INDEXER CLI\n",
        "# GraphRAG indexer CLI allows for no-code usage of the GraphRAG Indexer.\n",
        "\n",
        "!python -m graphrag.index --verbose --root </workspace/project/root> --config <custom_config.yml>\n",
        "--resume <timestamp> --reporter <rich|print|none> --emit json,csv,parquet\n",
        "--nocache"
      ],
      "metadata": {
        "id": "591-uPeZuBj1"
      },
      "execution_count": null,
      "outputs": []
    },
    {
      "cell_type": "markdown",
      "source": [
        "## CLI Arguments\n",
        "\n",
        "`--verbose` - Adds extra logging information during the run.\n",
        "\n",
        "`--root <data-project-dir>` - the data root directory. This should contain an input directory with the input data, and an .env file with environment variables. These are described below.\n",
        "\n",
        "`--init` - This will initialize the data project directory at the specified root with bootstrap configuration and prompt-overrides.\n",
        "\n",
        "`--resume <output-timestamp>` - if specified, the pipeline will attempt to resume a prior run. The parquet files from the prior run will be loaded into the system as inputs, and the workflows that generated those files will be skipped. The input value should be the timestamped output folder, e.g. \"20240105-143721\".\n",
        "\n",
        "`--config <config_file.yml>` - This will opt-out of the Default Configuration mode and execute a custom configuration. If this is used, then none of the environment-variables below will apply.\n",
        "\n",
        "`--reporter <reporter> ` - This will specify the progress reporter to use. The default is rich. Valid values are rich, print, and none.\n",
        "\n",
        "`--emit <types>` - This specifies the table output formats the pipeline should emit. The default is parquet. Valid values are parquet, csv, and json, comma-separated.\n",
        "\n",
        "\n",
        "`--nocache` - This will disable the caching mechanism. This is useful for debugging and development, but should not be used in production."
      ],
      "metadata": {
        "id": "zeXorNPitXxL"
      }
    }
  ]
}